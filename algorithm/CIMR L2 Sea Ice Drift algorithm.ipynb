{
 "cells": [
  {
   "cell_type": "markdown",
   "id": "933e941c",
   "metadata": {},
   "source": [
    "# A Level-2 Sea Ice Drift (SID) algorithm for CIMR\n",
    "\n",
    "This notebook implements a prototype for a Level-2 SIED algorithm for the CIMR mission.\n",
    "\n",
    "We refer to the corresponding [ATBD](https://cimr-algos.github.io/SeaIceDrift_ATBD/intro.html) and especially the [Baseline Algorithm Definition](https://cimr-algos.github.io/SeaIceDrift_ATBD/baseline_algorithm_definition.html#baseline-algorithm-definition).\n",
    "\n",
    "In particular, the figure below illustrates the overall concept of the processing:\n",
    "<img src=\"https://cimr-algos.github.io/SeaIceDrift_ATBD/_images/CIMR_L2_Sea_Ice_Drift_Flow_Diagram.png\" width=\"100%\"/>"
   ]
  },
  {
   "cell_type": "markdown",
   "id": "987813ed",
   "metadata": {},
   "source": [
    "## Settings\n",
    "\n",
    "Imports and general settings"
   ]
  },
  {
   "cell_type": "code",
   "execution_count": 1,
   "id": "ae1c54c3",
   "metadata": {},
   "outputs": [],
   "source": [
    "%load_ext cython"
   ]
  },
  {
   "cell_type": "code",
   "execution_count": 2,
   "id": "8a41e639",
   "metadata": {},
   "outputs": [],
   "source": [
    "# Root of directory and paths\n",
    "\n",
    "import os\n",
    "cpath = '/home/emilyjd/cimr-devalgo'\n",
    "algpath = os.path.join(cpath, 'SeaIceDrift_ATBD_v2/algorithm/src_sied')\n",
    "toolpath = os.path.join(cpath, 'Tools')\n",
    "\n",
    "l1bpath = os.path.join(cpath, 'data/L1B')\n",
    "concpath = os.path.join(cpath, 'data/conc')\n",
    "icemaskpath = os.path.join(cpath, 'data/icemask')\n",
    "swathpath = os.path.join(cpath, 'data/swaths')\n",
    "procpath = os.path.join(cpath, 'data/processing')\n",
    "driftpath = os.path.join(cpath, 'data/icedrift')\n",
    "logpath = os.path.join(cpath, 'data/logs')"
   ]
  },
  {
   "cell_type": "code",
   "execution_count": 3,
   "id": "22b5272b",
   "metadata": {
    "scrolled": false
   },
   "outputs": [],
   "source": [
    "# Imports\n",
    "\n",
    "from importlib import reload\n",
    "\n",
    "import sys\n",
    "import shutil\n",
    "import numpy as np\n",
    "import numpy.ma as ma\n",
    "import xarray as xr\n",
    "from netCDF4 import Dataset\n",
    "from matplotlib import pylab as plt\n",
    "import matplotlib.cm as cm\n",
    "#import cmocean\n",
    "from pyresample import parse_area_file\n",
    "from datetime import datetime, timedelta\n",
    "\n",
    "# Local modules contain software code that implement the SIED algorithm\n",
    "if algpath not in sys.path:\n",
    "    sys.path.insert(0, algpath)\n",
    "#from src_sied import *\n",
    "from icedrift_wrapper import icedrift_wrapper\n",
    "from process_ice_mask import process_ice_mask\n",
    "\n",
    "# prototype re-gridding toolbox to handle the L1B input\n",
    "if toolpath not in sys.path:\n",
    "    sys.path.insert(0, toolpath)\n",
    "from tools import io_handler as io\n",
    "from tools import collocation as coll\n",
    "from tools import l2_format as l2"
   ]
  },
  {
   "cell_type": "code",
   "execution_count": 4,
   "id": "3a828b82",
   "metadata": {},
   "outputs": [],
   "source": [
    "# Plot settings\n",
    "\n",
    "import matplotlib\n",
    "matplotlib.rc('xtick', labelsize=10) \n",
    "matplotlib.rc('ytick', labelsize=10) \n",
    "matplotlib.rcParams.update({'font.size': 12})\n",
    "matplotlib.rcParams.update({'axes.labelsize': 12})\n",
    "\n",
    "font = {'family' : 'sans',\n",
    "        'weight' : 'normal',\n",
    "        'size'   : 12}\n",
    "\n",
    "matplotlib.rc('font', **font)\n",
    "cmap = cm.viridis"
   ]
  },
  {
   "cell_type": "markdown",
   "id": "e72dd220",
   "metadata": {},
   "source": [
    "## Parametrize the run\n",
    "\n",
    "User-set parameters for the running of the whole notebook"
   ]
  },
  {
   "cell_type": "code",
   "execution_count": 5,
   "id": "1119b5de",
   "metadata": {},
   "outputs": [],
   "source": [
    "hemi = 'nh'\n",
    "algos = {'KU': {'channels':('tb19v', 'tb19h'), 'target_band':'KU'},\n",
    "         'KA': {'channels':('tb37v', 'tb37h'), 'target_band':'KA'}}\n",
    "wbs = list(algos.keys())\n",
    "fwdbck = ['fw', 'bk']\n",
    "polarisation = {'V': 0, 'H': 1}\n",
    "pols = list(polarisation.keys())\n",
    "\n",
    "test_card = \"radiometric\"\n",
    "if test_card == \"geometric\":\n",
    "    # DEVALGO's simulated geometric test card\n",
    "    l1bfn = 'W_PT-DME-Lisbon-SAT-CIMR-1B_C_DME_20230417T105425_LD_20280110T114800_20280110T115700_TN.nc'\n",
    "elif test_card == \"radiometric\":\n",
    "    # DEVALGO's simulated radiometric test card\n",
    "    l1bfn = 'W_PT-DME-Lisbon-SAT-CIMR-1B_C_DME_20230420T103323_LD_20280110T114800_20280110T115700_TN.nc'\n",
    "\n",
    "#dt = datetime.strptime('20230417T105425', '%Y%m%dT%H%M%S')\n",
    "dt = datetime.strptime('20230420T103323', '%Y%m%dT%H%M%S')\n",
    "\n",
    "l1bfile = os.path.join(l1bpath, l1bfn)\n",
    "\n",
    "pdate = datetime.strptime('20280110', '%Y%m%d')\n",
    "qdate = pdate + timedelta(days=1)\n",
    "\n",
    "# Icemask data and output locations\n",
    "icemaskinput = os.path.join(concpath, 'ice_conc_{}_ease-125_reproc_{:%Y%m%d}1200.nc'.format(hemi, pdate))\n",
    "icemaskgridfile = os.path.join(algpath, 'grids_py.def')\n",
    "\n",
    "algo_version = '0.1'"
   ]
  },
  {
   "cell_type": "markdown",
   "id": "07c4821e",
   "metadata": {},
   "source": [
    "TODO: Better define times. an approximation is to use the same time for all forward/backward scans, all channels and all polarities for each hemisphere. Just one time applied to the NH and one to the SH."
   ]
  },
  {
   "cell_type": "markdown",
   "id": "87b2fbcf",
   "metadata": {},
   "source": [
    "## Step 1: Pre-processing (Icemask, loading the files, Laplacian pre-processing)\n"
   ]
  },
  {
   "cell_type": "markdown",
   "id": "64f7c056",
   "metadata": {},
   "source": [
    "### Step 1a: Creating and regridding the ice mask\n"
   ]
  },
  {
   "cell_type": "markdown",
   "id": "7be5a1e2",
   "metadata": {},
   "source": [
    "A land/ocean/ice mask is required to define the areas with ice to the algorithm. This is created from a concentration file, and is stored for future use. Since there can be multiple ice drift calculations per day on different swaths, the mask can be reused once created."
   ]
  },
  {
   "cell_type": "code",
   "execution_count": 6,
   "id": "8f28fe7e",
   "metadata": {},
   "outputs": [
    {
     "data": {
      "text/plain": [
       "[]"
      ]
     },
     "execution_count": 6,
     "metadata": {},
     "output_type": "execute_result"
    },
    {
     "data": {
      "image/png": "[encoded data removed]",
      "text/plain": [
       "<Figure size 300x300 with 1 Axes>"
      ]
     },
     "metadata": {},
     "output_type": "display_data"
    }
   ],
   "source": [
    "# Creating the ice mask\n",
    "gridname = '{}-ease2-050'.format(hemi)\n",
    "icemaskname = os.path.join(icemaskpath, 'icemask-multi-{}-{:%Y%m%d}12.nc'.format(gridname, pdate))\n",
    "if not os.path.isfile(icemaskname):\n",
    "    process_ice_mask(icemaskinput, icemaskpath, icemaskgridfile, gridname)\n",
    "\n",
    "# Reading in the ice mask\n",
    "ie_data = Dataset(icemaskname, 'r')\n",
    "ie = ie_data['ice_edge'][0, :, :]\n",
    "\n",
    "# And the same for the output grid\n",
    "gridnameout = '{}-ease2-750'.format(hemi)\n",
    "icemasknameout = os.path.join(icemaskpath, 'icemask-multi-{}-{:%Y%m%d}12.nc'.format(gridnameout, pdate))\n",
    "if not os.path.isfile(icemasknameout):\n",
    "    process_ice_mask(icemaskinput, icemaskpath, icemaskgridfile, gridnameout)\n",
    "ie_data_out = Dataset(icemasknameout, 'r')\n",
    "ieout = ie_data_out['ice_edge'][0, :, :]\n",
    "\n",
    "# Plotting the ice mask\n",
    "fig = plt.figure(figsize=(3,3))\n",
    "ax1 = fig.add_subplot(1,1,1)\n",
    "c1 = ax1.imshow(ie[:], interpolation = 'none', cmap=cmap)\n",
    "ax1.set_title(\"Ice mask\")\n",
    "ax1.xaxis.set_tick_params(labelbottom=False)\n",
    "ax1.yaxis.set_tick_params(labelleft=False)\n",
    "ax1.set_xticks([])\n",
    "ax1.set_yticks([])"
   ]
  },
  {
   "cell_type": "markdown",
   "id": "b9360339",
   "metadata": {},
   "source": [
    "### Step 1b: Loading the data\n"
   ]
  },
  {
   "cell_type": "markdown",
   "id": "ac887df7",
   "metadata": {},
   "source": [
    "The L1B data is read in and split into forward and backward scans using software from the `Tools/` repository (a prototype CIMR Regridding Toolbox developed in the CIMR DEVALGO study)."
   ]
  },
  {
   "cell_type": "code",
   "execution_count": 7,
   "id": "e07e7f35",
   "metadata": {},
   "outputs": [],
   "source": [
    "# Read the bands needed of the L1B data\n",
    "reload(io)\n",
    "\n",
    "tb_dict = {'tb01':'L', 'tb06':'C', 'tb10':'X', 'tb19':'KU', 'tb37':'KA'}\n",
    "rev_tb_dict = {v:k for k,v in tb_dict.items()}\n",
    "bands_needed = []\n",
    "for alg in algos.keys():\n",
    "    bands_needed += algos[alg]['channels']\n",
    "bands_needed = list(set([tb_dict[b[:-1]] for b in bands_needed]))\n",
    "\n",
    "full_l1b = io.CIMR_L1B(l1bfile, selected_bands=bands_needed, keep_calibration_view=True)"
   ]
  },
  {
   "cell_type": "code",
   "execution_count": 8,
   "id": "b40457a9",
   "metadata": {},
   "outputs": [],
   "source": [
    "# Split into forward / backward scan\n",
    "\n",
    "l1b = {}\n",
    "l1b['fw'], l1b['bk'] = full_l1b.split_forward_backward_scans(method='horn_scan_angle')"
   ]
  },
  {
   "cell_type": "markdown",
   "id": "1874a138",
   "metadata": {},
   "source": [
    "### Step 1c: Regridding the data"
   ]
  },
  {
   "cell_type": "markdown",
   "id": "5dff9a86",
   "metadata": {},
   "source": [
    "The horns are interleaved, and then the data is regridded. These are again done with software from `Tools/`. The ice drift will be calculated individually on 8 fields based on the forward and backward scans, waveband (Ku or Ka), and polarity (V or H). A fine EASE2 grid spacing of 5km is chosen for this regridding. "
   ]
  },
  {
   "cell_type": "code",
   "execution_count": 9,
   "id": "d8cd899a",
   "metadata": {},
   "outputs": [],
   "source": [
    "# Regridding the data\n",
    "\n",
    "reload(coll)\n",
    "\n",
    "# Reshaping\n",
    "l1b_r = {}\n",
    "for fb in fwdbck:\n",
    "    l1b_r[fb] = l1b[fb].reshape_interleave_feed()\n",
    "\n",
    "# Loading the target grid information\n",
    "gridname = '{}-ease2-050'.format(hemi)\n",
    "new_area_def = parse_area_file(icemaskgridfile, gridname)[0]\n",
    "new_lons, new_lats = new_area_def.get_lonlats()\n",
    "\n",
    "# Getting the input lat/lons\n",
    "lonlats = {}\n",
    "for ll in ['lon', 'lat']:\n",
    "    lonlats[ll] = {}\n",
    "    for fb in fwdbck:\n",
    "        lonlats[ll][fb] = {}\n",
    "        for wb in wbs:\n",
    "            lonlats[ll][fb][wb] = l1b_r[fb].data[wb][ll].data\n",
    "\n",
    "# Creating data arrays with the V and H layers\n",
    "what = ('brightness_temperature_v', 'brightness_temperature_h')\n",
    "params = {'method':'gauss', 'sigmas':25000, 'neighbours':55}\n",
    "stack_shape = {}\n",
    "stack = {}\n",
    "regrid = {}\n",
    "for fb in fwdbck:\n",
    "    stack_shape[fb] = {}\n",
    "    stack[fb] = {}\n",
    "    regrid[fb] = {}\n",
    "    for wb in wbs:\n",
    "        stack_shape[fb][wb] = tuple(list(lonlats['lat'][fb][wb].shape) + [len(what),])\n",
    "        stack[fb][wb] = np.empty(stack_shape[fb][wb])\n",
    "        for iw, w in enumerate(what):\n",
    "            stack[fb][wb][...,iw] = l1b_r[fb].data[wb][w].data\n",
    "            # Regridding\n",
    "            regrid[fb][wb] = coll._regrid_fields(new_lons, new_lats, \n",
    "                                                 lonlats['lon'][fb][wb], lonlats['lat'][fb][wb], stack[fb][wb])\n"
   ]
  },
  {
   "cell_type": "code",
   "execution_count": 10,
   "id": "aae496fb",
   "metadata": {
    "scrolled": true
   },
   "outputs": [
    {
     "data": {
      "text/plain": [
       "<matplotlib.colorbar.Colorbar at 0x7fa96e62bfa0>"
      ]
     },
     "execution_count": 10,
     "metadata": {},
     "output_type": "execute_result"
    },
    {
     "data": {
      "image/png": "[encoded data removed]",
      "text/plain": [
       "<Figure size 1200x600 with 9 Axes>"
      ]
     },
     "metadata": {},
     "output_type": "display_data"
    }
   ],
   "source": [
    "# Plot regridded\n",
    "\n",
    "fig = plt.figure(figsize=(12,6))\n",
    "ax = {}\n",
    "c = {}\n",
    "shapelayout = (len(fwdbck), len(wbs) * len(pols))\n",
    "axindex = 1\n",
    "for fb in fwdbck:\n",
    "    for wb in wbs:\n",
    "        for pol in pols:\n",
    "            ax[axindex] = fig.add_subplot(*shapelayout, axindex)\n",
    "            c[axindex] = ax[axindex].imshow(regrid[fb][wb][:, :, polarisation[pol]], interpolation = 'none', \n",
    "                                            origin='lower', cmap=cmap)\n",
    "            ax[axindex].invert_yaxis()\n",
    "            ax[axindex].set_title(\"{} {} {}\".format(wb, pol, fb), fontsize=12)\n",
    "            ax[axindex].xaxis.set_tick_params(labelbottom=False)\n",
    "            ax[axindex].yaxis.set_tick_params(labelleft=False)\n",
    "            ax[axindex].set_xticks([])\n",
    "            ax[axindex].set_yticks([])\n",
    "            axindex += 1\n",
    "\n",
    "fig.subplots_adjust(right=0.8)\n",
    "cbar_ax = fig.add_axes([0.85, 0.25, 0.02, 0.5])\n",
    "fig.colorbar(c[1], cax=cbar_ax, shrink=0.5)\n"
   ]
  },
  {
   "cell_type": "markdown",
   "id": "1f124a3d",
   "metadata": {},
   "source": [
    "# Step 1d: Laplacian pre-processing\n"
   ]
  },
  {
   "cell_type": "markdown",
   "id": "41598427",
   "metadata": {},
   "source": [
    "Instead of directly using the brightness temperatures in the motion tracking algorithm, the ice features are stabilised and enhanced by applying a Laplacian filter (see ATBD for mathmatical description)."
   ]
  },
  {
   "cell_type": "code",
   "execution_count": 11,
   "id": "4cd9c5d4",
   "metadata": {},
   "outputs": [],
   "source": [
    "# Laplacian pre-processing\n",
    "\n",
    "from scipy.ndimage import laplace\n",
    "\n",
    "\n",
    "# Replace fill value by NaN and remove mask\n",
    "def _get_nans(img):\n",
    "    img_masked = np.ma.asarray(img)\n",
    "    return img_masked.filled(np.nan)\n",
    "\n",
    "# Replace NaN by fill value and add mask\n",
    "def _mask_nans(img):\n",
    "    return np.ma.masked_invalid(img)\n",
    "\n",
    "nan = {}\n",
    "lap = {}\n",
    "fv = {}\n",
    "for fb in fwdbck:\n",
    "    nan[fb] = {}\n",
    "    lap[fb] = {}\n",
    "    fv[fb] = {}\n",
    "    for wb in wbs:\n",
    "        # Convert fill values to NaNs\n",
    "        nan[fb][wb] = _get_nans(regrid[fb][wb])\n",
    "        # Laplacian transform\n",
    "        lap[fb][wb] = laplace(nan[fb][wb])\n",
    "        # Converting NaNs to fill values\n",
    "        fv[fb][wb] = _mask_nans(lap[fb][wb])\n",
    "\n",
    "# Creating a flag field\n",
    "#define TCIMAGE_OUTSIDE_GRID              -2\n",
    "#define TCIMAGE_NODATA                    -1\n",
    "#define TCIMAGE_OK                         0\n",
    "#define TCIMAGE_UNPROCESSED                1\n",
    "#define TCIMAGE_FAILED                     2\n",
    "flag = {}\n",
    "for fb in fwdbck:\n",
    "    flag[fb] = {}\n",
    "    for wb in wbs:\n",
    "        flag[fb][wb] = np.zeros_like(fv[fb][wb])\n",
    "        # Masking where the Laplacian didn't work\n",
    "        flag[fb][wb][fv[fb][wb].mask] = -1\n",
    "        # Masking where the land and ocean is\n",
    "        landocean = np.logical_or(ie == 9, ie == 1)\n",
    "        flag[fb][wb][landocean] = 1\n",
    "        #TODO - The ocean not masked in landocean (but masked by NODATA, so don't worry now)\n"
   ]
  },
  {
   "cell_type": "code",
   "execution_count": 12,
   "id": "e3257a6e",
   "metadata": {
    "scrolled": true
   },
   "outputs": [
    {
     "data": {
      "text/plain": [
       "<matplotlib.colorbar.Colorbar at 0x7fa957a3f340>"
      ]
     },
     "execution_count": 12,
     "metadata": {},
     "output_type": "execute_result"
    },
    {
     "data": {
      "image/png": "[encoded data removed]",
      "text/plain": [
       "<Figure size 1200x600 with 9 Axes>"
      ]
     },
     "metadata": {},
     "output_type": "display_data"
    }
   ],
   "source": [
    "# Plot Laplacian\n",
    "\n",
    "vmin = -100\n",
    "vmax = 100\n",
    "\n",
    "fig = plt.figure(figsize=(12,6))\n",
    "ax = {}\n",
    "c = {}\n",
    "shapelayout = (len(fwdbck), len(wbs) * len(pols))\n",
    "axindex = 1\n",
    "for fb in fwdbck:\n",
    "    for wb in wbs:\n",
    "        for pol in pols:\n",
    "            ax[axindex] = fig.add_subplot(*shapelayout, axindex)\n",
    "            c[axindex] = ax[axindex].imshow(fv[fb][wb][:, :, polarisation[pol]], interpolation = 'none', \n",
    "                                            origin='lower', cmap=cmap, vmin=vmin, vmax=vmax)\n",
    "            ax[axindex].invert_yaxis()\n",
    "            ax[axindex].set_title(\"{} {} {}\".format(wb, pol, fb), fontsize=12)\n",
    "            ax[axindex].xaxis.set_tick_params(labelbottom=False)\n",
    "            ax[axindex].yaxis.set_tick_params(labelleft=False)\n",
    "            ax[axindex].set_xticks([])\n",
    "            ax[axindex].set_yticks([])\n",
    "            axindex += 1\n",
    "\n",
    "fig.subplots_adjust(right=0.8)\n",
    "cbar_ax = fig.add_axes([0.85, 0.25, 0.02, 0.5])\n",
    "fig.colorbar(c[1], cax=cbar_ax, shrink=0.5)"
   ]
  },
  {
   "cell_type": "code",
   "execution_count": 13,
   "id": "6dad3754",
   "metadata": {
    "scrolled": true
   },
   "outputs": [
    {
     "ename": "NameError",
     "evalue": "name 'fwd_ku_fv' is not defined",
     "output_type": "error",
     "traceback": [
      "\u001b[0;31m---------------------------------------------------------------------------\u001b[0m",
      "\u001b[0;31mNameError\u001b[0m                                 Traceback (most recent call last)",
      "Cell \u001b[0;32mIn [13], line 5\u001b[0m\n\u001b[1;32m      3\u001b[0m fig \u001b[38;5;241m=\u001b[39m plt\u001b[38;5;241m.\u001b[39mfigure(figsize\u001b[38;5;241m=\u001b[39m(\u001b[38;5;241m12\u001b[39m,\u001b[38;5;241m7\u001b[39m))\n\u001b[1;32m      4\u001b[0m ax1 \u001b[38;5;241m=\u001b[39m fig\u001b[38;5;241m.\u001b[39madd_subplot(\u001b[38;5;241m2\u001b[39m,\u001b[38;5;241m4\u001b[39m,\u001b[38;5;241m1\u001b[39m)\n\u001b[0;32m----> 5\u001b[0m c1 \u001b[38;5;241m=\u001b[39m ax1\u001b[38;5;241m.\u001b[39mimshow(fwd_ku_fv[\u001b[38;5;241m1000\u001b[39m:\u001b[38;5;241m1500\u001b[39m, \u001b[38;5;241m1000\u001b[39m:\u001b[38;5;241m1500\u001b[39m, \u001b[38;5;241m0\u001b[39m], interpolation \u001b[38;5;241m=\u001b[39m \u001b[38;5;124m'\u001b[39m\u001b[38;5;124mnone\u001b[39m\u001b[38;5;124m'\u001b[39m, origin\u001b[38;5;241m=\u001b[39m\u001b[38;5;124m'\u001b[39m\u001b[38;5;124mlower\u001b[39m\u001b[38;5;124m'\u001b[39m, cmap\u001b[38;5;241m=\u001b[39mcmap, vmin\u001b[38;5;241m=\u001b[39mvmin, vmax\u001b[38;5;241m=\u001b[39mvmax)\n\u001b[1;32m      6\u001b[0m ax1\u001b[38;5;241m.\u001b[39mset_title(\u001b[38;5;124m\"\u001b[39m\u001b[38;5;124mKu V fwd\u001b[39m\u001b[38;5;124m\"\u001b[39m)\n\u001b[1;32m      7\u001b[0m ax2 \u001b[38;5;241m=\u001b[39m fig\u001b[38;5;241m.\u001b[39madd_subplot(\u001b[38;5;241m2\u001b[39m,\u001b[38;5;241m4\u001b[39m,\u001b[38;5;241m2\u001b[39m)\n",
      "\u001b[0;31mNameError\u001b[0m: name 'fwd_ku_fv' is not defined"
     ]
    },
    {
     "data": {
      "image/png": "[encoded data removed]",
      "text/plain": [
       "<Figure size 1200x700 with 1 Axes>"
      ]
     },
     "metadata": {},
     "output_type": "display_data"
    }
   ],
   "source": [
    "# Plot Laplacian zoomed\n",
    "\n",
    "fig = plt.figure(figsize=(12,7))\n",
    "ax1 = fig.add_subplot(2,4,1)\n",
    "c1 = ax1.imshow(fwd_ku_fv[1000:1500, 1000:1500, 0], interpolation = 'none', origin='lower', cmap=cmap, vmin=vmin, vmax=vmax)\n",
    "ax1.set_title(\"Ku V fwd\")\n",
    "ax2 = fig.add_subplot(2,4,2)\n",
    "c2 = ax2.imshow(fwd_ku_fv[1000:1500, 1000:1500, 1], interpolation = 'none', origin='lower', cmap=cmap, vmin=vmin, vmax=vmax)\n",
    "ax2.set_title(\"Ku H fwd\")\n",
    "ax3 = fig.add_subplot(2,4,3)\n",
    "c3 = ax3.imshow(fwd_ka_fv[1000:1500, 1000:1500, 0], interpolation = 'none', origin='lower', cmap=cmap, vmin=vmin, vmax=vmax)\n",
    "ax3.set_title(\"Ka V fwd\")\n",
    "ax4 = fig.add_subplot(2,4,4)\n",
    "c4 = ax4.imshow(fwd_ka_fv[1000:1500, 1000:1500, 1], interpolation = 'none', origin='lower', cmap=cmap, vmin=vmin, vmax=vmax)\n",
    "ax4.set_title(\"Ka H fwd\")\n",
    "\n",
    "ax5 = fig.add_subplot(2,4,5)\n",
    "c5 = ax5.imshow(bck_ku_fv[1000:1500, 1000:1500, 0], interpolation = 'none', origin='lower', cmap=cmap, vmin=vmin, vmax=vmax)\n",
    "ax5.set_title(\"Ku V bck\")\n",
    "ax6 = fig.add_subplot(2,4,6)\n",
    "c6 = ax6.imshow(bck_ku_fv[1000:1500, 1000:1500, 1], interpolation = 'none', origin='lower', cmap=cmap, vmin=vmin, vmax=vmax)\n",
    "ax6.set_title(\"Ku H bck\")\n",
    "ax7 = fig.add_subplot(2,4,7)\n",
    "c7 = ax7.imshow(bck_ka_fv[1000:1500, 1000:1500, 0], interpolation = 'none', origin='lower', cmap=cmap, vmin=vmin, vmax=vmax)\n",
    "ax7.set_title(\"Ka V bck\")\n",
    "ax8 = fig.add_subplot(2,4,8)\n",
    "c8 = ax8.imshow(bck_ka_fv[1000:1500, 1000:1500, 1], interpolation = 'none', origin='lower', cmap=cmap, vmin=vmin, vmax=vmax)\n",
    "ax8.set_title(\"Ka H bck\")\n",
    "\n",
    "fig.subplots_adjust(right=0.8)\n",
    "cbar_ax = fig.add_axes([0.85, 0.25, 0.02, 0.5])\n",
    "fig.colorbar(c1, cax=cbar_ax, shrink=0.5)"
   ]
  },
  {
   "cell_type": "markdown",
   "id": "9f1f5251",
   "metadata": {},
   "source": [
    "# Step 1e: Writing out the file\n"
   ]
  },
  {
   "cell_type": "markdown",
   "id": "fa647d9c",
   "metadata": {},
   "source": [
    "For ice drift, it is not possible to keep the data only internally. Since two gridded files at different timepoints are required to create each gridded map of icedrift vectors, it is necessary to write each gridded swath file to disk so that it can be read in to be compared with other gridded swath files."
   ]
  },
  {
   "cell_type": "code",
   "execution_count": 15,
   "id": "d8b47b3d",
   "metadata": {},
   "outputs": [
    {
     "name": "stderr",
     "output_type": "stream",
     "text": [
      "/modules/rhel8/conda/install/envs/production-08-2023/lib/python3.9/site-packages/pyproj/crs/crs.py:1282: UserWarning: You will likely lose important projection information when converting to a PROJ string from another format. See: https://proj.org/faq.html#what-is-the-best-format-for-describing-coordinate-reference-systems\n",
      "  proj = self._crs.to_proj4(version=version)\n"
     ]
    }
   ],
   "source": [
    "crs_info = {'proj4_string': new_area_def.proj4_string,\n",
    "             'area_id': new_area_def.area_id,\n",
    "             'semi_major_axis': 6378137.,\n",
    "             'semi_minor_axis': 6356752.31424518,\n",
    "             'inverse_flattening': 298.257223563,\n",
    "             'reference_ellipsoid_name': \"WGS 84\",\n",
    "             'longitude_of_prime_meridian': 0.,\n",
    "             'prime_meridian_name': \"Greenwich\",\n",
    "             'geographic_crs_name': \"unknown\",\n",
    "             'horizontal_datum_name': \"World Geodetic System 1984\",\n",
    "             'projected_crs_name': \"unknown\",\n",
    "             'grid_mapping_name': \"lambert_azimuthal_equal_area\",\n",
    "             'latitude_of_projection_origin': 90.,\n",
    "             'longitude_of_projection_origin': 0.,\n",
    "             'false_easting': 0.,\n",
    "             'false_northing': 0.}"
   ]
  },
  {
   "cell_type": "code",
   "execution_count": 53,
   "id": "81fe4d9a",
   "metadata": {},
   "outputs": [
    {
     "name": "stdout",
     "output_type": "stream",
     "text": [
      "Written /home/emilyjd/cimr-devalgo/data/processing/bt_nh-ease2-050_20280110.nc\n"
     ]
    }
   ],
   "source": [
    "reload(l2)\n",
    "\n",
    "## Associate a time to this L2 product\n",
    "#min_l1b_dt = full_l1b.data[wbs[0]]['time_earth'].data.min()\n",
    "#max_l1b_dt = full_l1b.data[wbs[0]]['time_earth'].data.max()\n",
    "## Some simulated files have a wrong units of 'days', then we get 'time_earth' as timedelta64. Fix for these.\n",
    "##if full_l1b.data[wbs[0]['time_earth'].encoding['units'] == 'days':\n",
    "#    print(\"Correct L1B time (wrong unit in L1B file)\")\n",
    "#    min_l1b_dt += np.datetime64('2000-01-01')\n",
    "#    max_l1b_dt += np.datetime64('2000-01-01')\n",
    "#\n",
    "## Arbitrarily, associate middle time of l1b to l2\n",
    "#l2_dt = min_l1b_dt + (max_l1b_dt - min_l1b_dt) * 0.5\n",
    "\n",
    "# Get a template L2 format (netCDF/CF) from the Tools module\n",
    "ds_l2 = l2.get_CIMR_L2_template('grid', geo_def=new_area_def, add_time=[pdate.timestamp()])\n",
    "\n",
    "# Create data arrays for the brightness temperatures, laplacian processed and status flags from the template\n",
    "shp = (1, *regrid[fwdbck[0]][wbs[0]][:, :, polarisation[pol]].shape)\n",
    "ds_tb = {}\n",
    "ds_lap = {}\n",
    "ds_flag = {}\n",
    "for fb in fwdbck:\n",
    "    ds_tb[fb] = {}\n",
    "    ds_lap[fb] = {}\n",
    "    ds_flag[fb] = {}\n",
    "    for wb in wbs:\n",
    "        ds_tb[fb][wb] = {}\n",
    "        ds_lap[fb][wb] = {}\n",
    "        ds_flag[fb][wb] = {}\n",
    "        for pol in pols:\n",
    "            chan = algos[wb]['channels'][polarisation[pol]]\n",
    "            ds_tb[fb][wb][pol] = xr.DataArray(regrid[fb][wb][:, :, polarisation[pol]].reshape(shp),\n",
    "                                              coords=ds_l2['template'].coords, dims=ds_l2['template'].dims,\n",
    "                                              attrs=ds_l2['template'].attrs, name='{}{}'.format(chan, fb))\n",
    "            ds_tb[fb][wb][pol].attrs['standard_name'] = 'brightness_temperature'\n",
    "            ds_tb[fb][wb][pol].attrs['long_name'] = 'Brightness temperature {}'.format(chan, fb)\n",
    "            ds_tb[fb][wb][pol].attrs['coverage_content_type'] = 'physicalMeasurement'\n",
    "            ds_tb[fb][wb][pol].attrs['units'] = 'K'\n",
    "            ds_l2 = ds_l2.merge(ds_tb[fb][wb][pol])\n",
    "            \n",
    "            ds_lap[fb][wb][pol] = xr.DataArray(fv[fb][wb][:, :, polarisation[pol]].reshape(shp),\n",
    "                                               coords=ds_l2['template'].coords, dims=ds_l2['template'].dims,\n",
    "                                               attrs=ds_l2['template'].attrs, name='{}{}_lap'.format(chan, fb))\n",
    "            ds_lap[fb][wb][pol].attrs['long_name'] = 'Laplacian of brightness temperature {}'.format(chan, fb)\n",
    "            ds_lap[fb][wb][pol].attrs['coverage_content_type'] = 'auxiliaryInformation'\n",
    "            ds_lap[fb][wb][pol].attrs['units'] = 1\n",
    "            ds_l2 = ds_l2.merge(ds_lap[fb][wb][pol])\n",
    "            \n",
    "            ds_flag[fb][wb][pol] = xr.DataArray(flag[fb][wb][:, :, polarisation[pol]].reshape(shp),\n",
    "                                                coords=ds_l2['template'].coords, dims=ds_l2['template'].dims,\n",
    "                                                attrs=ds_l2['template'].attrs, \n",
    "                                                name='{}{}_lap_flag'.format(chan, fb))\n",
    "            ds_flag[fb][wb][pol].attrs['standard_name'] = 'status_flag'\n",
    "            ds_flag[fb][wb][pol].attrs['long_name'] = 'Status flag for Laplacian of brightness temperature {}'.format(chan, fb)\n",
    "            ds_flag[fb][wb][pol].attrs['coverage_content_type'] = 'qualityInformation'\n",
    "            ds_flag[fb][wb][pol].attrs['units'] = 1\n",
    "            ds_l2 = ds_l2.merge(ds_flag[fb][wb][pol])\n",
    "\n",
    "# Create a data array for dtime from the template\n",
    "dtime = np.full_like(regrid[fwdbck[0]][wbs[0]][:, :, 0], pdate.timestamp()).reshape(shp)\n",
    "ds_dtime = xr.DataArray(dtime, coords=ds_l2['template'].coords, dims=ds_l2['template'].dims,\n",
    "                        attrs=ds_l2['template'].attrs, name='dtime')\n",
    "ds_dtime.attrs['long_name'] = 'Time'\n",
    "ds_dtime.attrs['standard_name'] = 'time'\n",
    "ds_dtime.attrs['coverage_content_type'] = 'auxiliaryInformation'\n",
    "ds_dtime.attrs['units'] = 'seconds since 1970-01-01 00:00:00'\n",
    "ds_l2 = ds_l2.merge(ds_dtime)\n",
    "\n",
    "# Create a data array for ice edge from the template\n",
    "ds_ie = xr.DataArray(ie.reshape(shp), coords=ds_l2['template'].coords, dims=ds_l2['template'].dims,\n",
    "                     attrs=ds_l2['template'].attrs, name='ice_edge')\n",
    "ds_ie.attrs['long_name'] = 'Ice edge'\n",
    "ds_ie.attrs['coverage_content_type'] = 'auxiliaryInformation'\n",
    "ds_ie.attrs['units'] = 1\n",
    "ds_l2 = ds_l2.merge(ds_ie)\n",
    "\n",
    "# Create a data array for time, needed by the C code\n",
    "timedata = np.full_like(regrid[fb][wb][0, 0, 0], pdate.timestamp())\n",
    "ds_l2['vtime'] = (('time'), timedata.reshape(1,))\n",
    "ds_l2['time'].attrs = {'units': \"seconds since 1970-01-01 00:00:00\"}\n",
    "ds_l2.attrs['long_name'] = 'Time'\n",
    "ds_l2.attrs['coverage_content_type'] = 'auxiliaryInformation'\n",
    "ds_l2.attrs['units'] = \"seconds since 1970-01-01 00:00:00\"\n",
    "\n",
    "# Customize the global attributes\n",
    "ds_l2.attrs['title'] = 'CIMR intermediate brightness temperatures for ice drift calculation'\n",
    "ds_l2.attrs['summary'] = 'Intermediate brightness temperatures and Laplacian-processed fields with their status flags, written as intermadiate-processing file for ice drift calculations'\n",
    "ds_l2.attrs['l1b_file'] = l1bfn\n",
    "ds_l2.attrs['algorithm_version'] = algo_version\n",
    "ds_l2.attrs['creator_name'] = 'Emily Down'\n",
    "ds_l2.attrs['creator_email'] = 'emilyjd@met.no'\n",
    "ds_l2.attrs['institution'] = 'Norwegian Meteorological Institute'\n",
    "\n",
    "# CRS information needed for C code\n",
    "ds_l2['crs'].attrs = crs_info\n",
    "\n",
    "# Need to rename x and y to xc and yc for X code\n",
    "ds_l2= ds_l2.rename({'x': 'xc','y': 'yc'})\n",
    "    \n",
    "# Remove the 'template' variable (we don't need it anymore)\n",
    "#ds_l2 = ds_l2.drop('template')\n",
    "\n",
    "# Write to file\n",
    "dsname = os.path.join(procpath, 'bt_{}_{:%Y%m%d}.nc'.format(gridname, pdate))\n",
    "ds_l2.to_netcdf(dsname, 'w', format=\"NETCDF4_CLASSIC\")\n",
    "print(\"Written {}\".format(dsname))"
   ]
  },
  {
   "cell_type": "markdown",
   "id": "3575fa19",
   "metadata": {},
   "source": [
    "### Step 1f (temporary): Creating a test gridded file with \"time difference\" 24h and 1 px added in each x and y\n"
   ]
  },
  {
   "cell_type": "markdown",
   "id": "13dd0d61",
   "metadata": {},
   "source": [
    "This is a temporary part of this notebook, to create a \"test\" file with different gridded brightness temperatures and a different timepoint. This is required for calculation of ice drift vectors. In this example, a constant shift of 2 pixels in the x-direction and 4 pixels in the y-direction is chosen."
   ]
  },
  {
   "cell_type": "code",
   "execution_count": 55,
   "id": "b994706d",
   "metadata": {},
   "outputs": [
    {
     "name": "stdout",
     "output_type": "stream",
     "text": [
      "Written /home/emilyjd/cimr-devalgo/data/processing/bt_nh-ease2-050_20280111.nc\n"
     ]
    }
   ],
   "source": [
    "# Create a shifted file. These are the pixel shifts\n",
    "pixshx = 2\n",
    "pixshy = 4\n",
    "\n",
    "# Take a copy of the data xarray\n",
    "ds_shift = ds_l2.copy()\n",
    "\n",
    "# Add the Laplacian mask variable\n",
    "ds_msk = {}\n",
    "ds_msk = {}\n",
    "ds_msk = {}\n",
    "for fb in fwdbck:\n",
    "    ds_msk[fb] = {}\n",
    "    for wb in wbs:\n",
    "        ds_msk[fb][wb] = {}\n",
    "        for pol in pols:\n",
    "            chan = algos[wb]['channels'][polarisation[pol]]\n",
    "            ds_msk[fb][wb][pol] = xr.DataArray(fv[fb][wb][:, :, polarisation[pol]].mask.reshape(shp),\n",
    "                                               coords=ds_shift['template'].coords, dims=ds_shift['template'].dims,\n",
    "                                               attrs=ds_shift['template'].attrs, name='{}{}_msk'.format(chan, fb))\n",
    "            ds_msk[fb][wb][pol].attrs['long_name'] = 'Mask for Laplacian of brightness temperature {}'.format(chan, fb)\n",
    "            ds_msk[fb][wb][pol].attrs['coverage_content_type'] = 'auxiliaryInformation'\n",
    "            ds_msk[fb][wb][pol].attrs['units'] = 1\n",
    "            ds_shift = ds_shift.merge(ds_msk[fb][wb][pol])\n",
    "\n",
    "# Shifting the data pixels of the arrays\n",
    "ds_shift_tb = {}\n",
    "ds_shift_lap = {}\n",
    "ds_shift_flag = {}\n",
    "for fb in fwdbck:\n",
    "    ds_shift_tb[fb] = {}\n",
    "    ds_shift_lap[fb] = {}\n",
    "    ds_shift_flag[fb] = {}\n",
    "    for wb in wbs:\n",
    "        ds_shift_tb[fb][wb] = {}\n",
    "        ds_shift_lap[fb][wb] = {}\n",
    "        ds_shift_flag[fb][wb] = {}\n",
    "        for pol in pols:\n",
    "            chan = algos[wb]['channels'][polarisation[pol]]\n",
    "            # Shift can be used in xarray to shift dimension by number of pix. Note that the dimensions must be\n",
    "            # called x and y within xarray\n",
    "            chan = algos[wb]['channels'][polarisation[pol]]\n",
    "            tbname = '{}{}'.format(chan, fb)\n",
    "            ds_shift_tb[fb][wb] = ds_shift.get(tbname).shift(xc=pixshx, yc=pixshy)\n",
    "            ds_shift[tbname].data = ds_shift_tb[fb][wb]\n",
    "            # Shifting the Laplacian field\n",
    "            lapname = '{}{}_lap'.format(chan, fb)\n",
    "            ds_shift_lap[fb][wb] = ds_shift.get(lapname).shift(xc=pixshx, yc=pixshy)\n",
    "            ds_shift[lapname].data = ds_shift_lap[fb][wb]\n",
    "            # Flag field (want the data shifted, the landmask not)  \n",
    "            flagname = '{}{}_lap_flag'.format(chan, fb)\n",
    "            ds_shift_flag[fb][wb] = np.zeros_like(ds_shift_lap[fb][wb])\n",
    "            # Masking where the Laplacian failed\n",
    "            maskname = '{}{}_msk'.format(chan, fb)\n",
    "            fmsk_shft = ds_shift.get(maskname).shift(xc=pixshx, yc=pixshy)\n",
    "            ds_shift_flag[fb][wb][fmsk_shft == 1] = -1\n",
    "            # Masking where the land and ocean is\n",
    "            landocean = np.logical_or(ie == 9, ie == 1).reshape(shp)\n",
    "            (ds_shift_flag[fb][wb])[landocean] = 1\n",
    "            ds_shift[flagname].data = ds_shift_flag[fb][wb]\n",
    "\n",
    "# Shift time by 24h\n",
    "ds_shift['dtime'].data = np.full_like(regrid[fwdbck[0]][wbs[0]][:, :, 0], qdate.timestamp()).reshape(shp)\n",
    "ds_shift.assign_coords(time = [qdate.timestamp()])\n",
    "\n",
    "# Remove the mask variables (we don't need them anymore)\n",
    "for fb in fwdbck:\n",
    "    for wb in wbs:\n",
    "        for pol in pols:\n",
    "            chan = algos[wb]['channels'][polarisation[pol]]\n",
    "            maskname = '{}{}_msk'.format(chan, fb)\n",
    "            ds_shift = ds_shift.drop(maskname)\n",
    "\n",
    "# Write to file\n",
    "dsname2 = os.path.join(procpath, 'bt_{}_{:%Y%m%d}.nc'.format(gridname, qdate))\n",
    "ds_shift.to_netcdf(dsname2, 'w', format=\"NETCDF4_CLASSIC\")\n",
    "print(\"Written {}\".format(dsname2))"
   ]
  },
  {
   "cell_type": "markdown",
   "id": "4c30e3e7",
   "metadata": {},
   "source": [
    "## Step 2: Cross-correlation algorithm\n"
   ]
  },
  {
   "cell_type": "markdown",
   "id": "e4b6d0e0",
   "metadata": {},
   "source": [
    "For the Continuous Maximum Cross-Correlation algorithm, two brightness temperature gridded files, enhanced by the Laplacian algorithm and with different timestamps, are required. The algorithm matches features between these images on a fractional pixel grid. As an example, only one channel is used so far, KU H-band forward scan. "
   ]
  },
  {
   "cell_type": "code",
   "execution_count": 59,
   "id": "365120c2",
   "metadata": {},
   "outputs": [
    {
     "data": {
      "text/plain": [
       "'/home/emilyjd/cimr-devalgo/data/processing/tc_wght_cimr-cimr_tb19hfw-tb19vfw-tb19hbk-tb19vbk-tb37hfw-tb37vfw-tb37hbk-tb37vbk_nh-ease2-050_2028011112.nc'"
      ]
     },
     "execution_count": 59,
     "metadata": {},
     "output_type": "execute_result"
    }
   ],
   "source": [
    "# Copying the files with new names, to interface with the C-code\n",
    "\n",
    "chanstr = 'tb19hfw-tb19vfw-tb19hbk-tb19vbk-tb37hfw-tb37vfw-tb37hbk-tb37vbk'\n",
    "newname1 = 'tc_wght_cimr-cimr_{}_{}-ease2-050_{}12.nc'.format(chanstr, hemi, datetime.strftime(pdate, '%Y%m%d'))\n",
    "newname2 = 'tc_wght_cimr-cimr_{}_{}-ease2-050_{}12.nc'.format(chanstr, hemi, datetime.strftime(qdate, '%Y%m%d'))\n",
    "shutil.copyfile(dsname, os.path.join(os.path.dirname(dsname), newname1))\n",
    "shutil.copyfile(dsname2, os.path.join(os.path.dirname(dsname), newname2))"
   ]
  },
  {
   "cell_type": "code",
   "execution_count": 57,
   "id": "52e8db6a",
   "metadata": {
    "scrolled": true
   },
   "outputs": [
    {
     "name": "stdout",
     "output_type": "stream",
     "text": [
      "The autoreload extension is already loaded. To reload it, use:\n",
      "  %reload_ext autoreload\n",
      "WBS =  tb19hfw\n",
      "\n",
      "Daily maps found (cimr-cimr):\n",
      "\n",
      "\tDay 1 : /home/emilyjd/cimr-devalgo/data/processing/tc_wght_cimr-cimr_tb19hfw-tb19vfw-tb19hbk-tb19vbk-tb37hfw-tb37vfw-tb37hbk-tb37vbk_nh-ease2-050_2028011012.nc \n",
      "\n",
      "\tDay 2 : /home/emilyjd/cimr-devalgo/data/processing/tc_wght_cimr-cimr_tb19hfw-tb19vfw-tb19hbk-tb19vbk-tb37hfw-tb37vfw-tb37hbk-tb37vbk_nh-ease2-050_2028011112.nc \n",
      "\n",
      "\n",
      "\n"
     ]
    },
    {
     "name": "stderr",
     "output_type": "stream",
     "text": [
      "/modules/rhel8/conda/install/envs/production-08-2023/lib/python3.9/site-packages/pyproj/crs/crs.py:1282: UserWarning: You will likely lose important projection information when converting to a PROJ string from another format. See: https://proj.org/faq.html#what-is-the-best-format-for-describing-coordinate-reference-systems\n",
      "  proj = self._crs.to_proj4(version=version)\n"
     ]
    },
    {
     "name": "stdout",
     "output_type": "stream",
     "text": [
      "Calling the C core code...\n",
      "50510}. Score=-nan\n",
      "The maximum number of iterations (1000) is reached. The best point up to now is X: {0.000000,3.750510}. Score=-nan\n",
      "The maximum number of iterations (1000) is reached. The best point up to now is X: {0.000000,3.750510}. Score=-nan\n",
      "The maximum number of iterations (1000) is reached. The best point up to now is X: {0.000000,3.750510}. Score=-nan\n",
      "The maximum number of iterations (1000) is reached. The best point up to now is X: {0.000000,3.750510}. Score=-nan\n",
      "The maximum number of iterations (1000) is reached. The best point up to now is X: {0.000000,3.750510}. Score=-nan\n",
      "The maximum number of iterations (1000) is reached. The best point up to now is X: {0.000000,3.750510}. Score=-nan\n",
      "The maximum number of iterations (1000) is reached. The best point up to now is X: {0.000000,3.750510}. Score=-nan\n",
      "The maximum number of iterations (1000) is reached. The best point up to now is X: {0.000000,3.750510}. Score=-nan\n",
      "The maximum number of iterations (1000) is reached. The best point up to now is X: {0.000000,3.750510}. Score=-nan\n",
      "The maximum number of iterations (1000) is reached. The best point up to now is X: {0.000000,3.750510}. Score=-nan\n",
      "The maximum number of iterations (1000) is reached. The best point up to now is X: {0.000000,3.750510}. Score=-nan\n",
      " \n",
      " LOGMSG [icedrift_solve_core 2023-11-28 22:17]:\n",
      "\tEnd processing.\n",
      " \n",
      " \n",
      " LOGMSG [icedrift_solve_core 2023-11-28 22:30]:\n",
      "\tStart processing.\n",
      " \n",
      "STARTED CORE \n",
      "===> obs[0][0][400499] = nan \n",
      "===> obs[0][0][400500] = nan \n",
      "===> obs[0][0][400501] = nan \n",
      "\tLog file is </home/emilyjd/cimr-devalgo/data/logs/cmcc-test.log>\n",
      "\tRadius for pattern #0 is 75.0km\n",
      "\tRadius for pattern #1 is 37.5km\n",
      "\tMaximum drift distance is 38.88km\n",
      " ._____. ._____. ._____. ._____. ._____. \n",
      "\n",
      "\n",
      "\n",
      " ._____. {-1/-1} {-1/+0} {-1/+1} ._____. \n",
      "\n",
      "\n",
      "\n",
      " ._____. {+0/-1} .xxxxx. {+0/+1} ._____. \n",
      "\n",
      "\n",
      "\n",
      " ._____. {+1/-1} {+1/+0} {+1/+1} ._____. \n",
      "\n",
      "\n",
      "\n",
      " ._____. ._____. ._____. ._____. ._____. \n",
      "\n",
      "\n",
      "\n",
      "\tRadius of the neighbourhood filtering pattern is 125.0km ([-1,-1])\n",
      "The maximum number of iterations (1000) is reached. The best point up to now is X: {0.000000,9.999030}. Score=-nan\n",
      "The maximum number of iterations (1000) is reached. The best point up to now is X: {0.000000,9.999030}. Score=-nan\n",
      "The maximum number of iterations (1000) is reached. The best point up to now is X: {0.000000,9.999030}. Score=-nan\n",
      "The maximum number of iterations (1000) is reached. The best point up to now is X: {0.000000,9.999030}. Score=-nan\n",
      "The maximum number of iterations (1000) is reached. The best point up to now is X: {0.000000,9.999030}. Score=-nan\n",
      "The maximum number of iterations (1000) is reached. The best point up to now is X: {0.000000,9.999030}. Score=-nan\n",
      "The maximum number of iterations (1000) is reached. The best point up to now is X: {0.000000,9.999030}. Score=-nan\n",
      "The maximum number of iterations (1000) is reached. The best point up to now is X: {0.000000,9.999030}. Score=-nan\n",
      "The maximum number of iterations (1000) is reached. The best point up to now is X: {0.000000,9.999030}. Score=-nan\n",
      "The maximum number of iterations (1000) is reached. The best point up to now is X: {0.000000,2.518383}. Score=-nan\n",
      "The maximum number of iterations (1000) is reached. The best point up to now is X: {0.000000,2.518383}. Score=-nan\n",
      "The maximum number of iterations (1000) is reached. The best point up to now is X: {0.000000,2.518383}. Score=-nan\n",
      "The maximum number of iterations (1000) is reached. The best point up to now is X: {0.000000,2.518383}. Score=-nan\n",
      "The maximum number of iterations (1000) is reached. The best point up to now is X: {0.000000,2.518383}. Score=-nan\n",
      "The maximum number of iterations (1000) is reached. The best point up to now is X: {0.000000,2.518383}. Score=-nan\n",
      "The maximum number of iterations (1000) is reached. The best point up to now is X: {0.000000,9.994177}. Score=-nan\n",
      "The maximum number of iterations (1000) is reached. The best point up to now is X: {0.000000,9.994177}. Score=-nan\n",
      "The maximum number of iterations (1000) is reached. The best point up to now is X: {0.000000,9.994177}. Score=-nan\n",
      "The maximum number of iterations (1000) is reached. The best point up to now is X: {0.000000,9.994177}. Score=-nan\n",
      "The maximum number of iterations (1000) is reached. The best point up to now is X: {0.000000,9.994177}. Score=-nan\n",
      "The maximum number of iterations (1000) is reached. The best point up to now is X: {0.000000,9.994177}. Score=-nan\n",
      "The maximum number of iterations (1000) is reached. The best point up to now is X: {0.000000,9.994177}. Score=-nan\n",
      "The maximum number of iterations (1000) is reached. The best point up to now is X: {0.000000,24.306692}. Score=-nan\n",
      "The maximum number of iterations (1000) is reached. The best point up to now is X: {0.000000,24.306692}. Score=-nan\n",
      "The maximum number of iterations (1000) is reached. The best point up to now is X: {0.000000,24.306692}. Score=-nan\n",
      "The maximum number of iterations (1000) is reached. The best point up to now is X: {0.000000,24.306692}. Score=-nan\n",
      "The maximum number of iterations (1000) is reached. The best point up to now is X: {0.000000,-30.384735}. Score=-nan\n",
      "The maximum number of iterations (1000) is reached. The best point up to now is X: {0.000000,-30.384735}. Score=-nan\n",
      "The maximum number of iterations (1000) is reached. The best point up to now is X: {0.000000,-30.384735}. Score=-nan\n",
      "The maximum number of iterations (1000) is reached. The best point up to now is X: {0.000000,-30.384735}. Score=-nan\n",
      "The maximum number of iterations (1000) is reached. The best point up to now is X: {0.000000,-30.384735}. Score=-nan\n",
      "The maximum number of iterations (1000) is reached. The best point up to now is X: {0.000000,-30.384735}. Score=-nan\n",
      "The maximum number of iterations (1000) is reached. The best point up to now is X: {0.000000,-30.384735}. Score=-nan\n",
      "The maximum number of iterations (1000) is reached. The best point up to now is X: {0.000000,-30.384735}. Score=-nan\n",
      "The maximum number of iterations (1000) is reached. The best point up to now is X: {0.000000,-14.156610}. Score=-nan\n",
      "The maximum number of iterations (1000) is reached. The best point up to now is X: {0.000000,-14.156610}. Score=-nan\n",
      "The maximum number of iterations (1000) is reached. The best point up to now is X: {0.000000,-14.156610}. Score=-nan\n",
      "The maximum number of iterations (1000) is reached. The best point up to now is X: {0.000000,-14.156610}. Score=-nan\n",
      "The maximum number of iterations (1000) is reached. The best point up to now is X: {0.000000,-14.156610}. Score=-nan\n",
      "The maximum number of iterations (1000) is reached. The best point up to now is X: {0.000000,-14.156610}. Score=-nan\n",
      "The maximum number of iterations (1000) is reached. The best point up to now is X: {0.000000,-14.156610}. Score=-nan\n",
      "The maximum number of iterations (1000) is reached. The best point up to now is X: {0.000000,-14.156610}. Score=-nan\n",
      "The maximum number of iterations (1000) is reached. The best point up to now is X: {0.000000,-14.156610}. Score=-nan\n",
      "The maximum number of iterations (1000) is reached. The best point up to now is X: {0.000000,-14.156610}. Score=-nan\n",
      "The maximum number of iterations (1000) is reached. The best point up to now is X: {0.000000,-14.156610}. Score=-nan\n",
      "The maximum number of iterations (1000) is reached. The best point up to now is X: {0.000000,-14.156610}. Score=-nan\n",
      "The maximum number of iterations (1000) is reached. The best point up to now is X: {0.000000,14.999831}. Score=-nan\n",
      "The maximum number of iterations (1000) is reached. The best point up to now is X: {0.000000,14.999831}. Score=-nan\n",
      "The maximum number of iterations (1000) is reached. The best point up to now is X: {0.000000,14.999831}. Score=-nan\n",
      "The maximum number of iterations (1000) is reached. The best point up to now is X: {0.000000,14.999831}. Score=-nan\n",
      "The maximum number of iterations (1000) is reached. The best point up to now is X: {0.000000,14.999831}. Score=-nan\n",
      "The maximum number of iterations (1000) is reached. The best point up to now is X: {0.000000,14.999831}. Score=-nan\n",
      "The maximum number of iterations (1000) is reached. The best point up to now is X: {0.000000,14.999831}. Score=-nan\n",
      "The maximum number of iterations (1000) is reached. The best point up to now is X: {0.000000,14.999831}. Score=-nan\n",
      "The maximum number of iterations (1000) is reached. The best point up to now is X: {0.000000,14.999831}. Score=-nan\n",
      "The maximum number of iterations (1000) is reached. The best point up to now is X: {0.000000,8.254930}. Score=-nan\n",
      "The maximum number of iterations (1000) is reached. The best point up to now is X: {0.000000,8.254930}. Score=-nan\n",
      "The maximum number of iterations (1000) is reached. The best point up to now is X: {0.000000,8.254930}. Score=-nan\n",
      "The maximum number of iterations (1000) is reached. The best point up to now is X: {0.000000,8.254930}. Score=-nan\n",
      "The maximum number of iterations (1000) is reached. The best point up to now is X: {0.000000,8.254930}. Score=-nan\n",
      "The maximum number of iterations (1000) is reached. The best point up to now is X: {0.000000,8.254930}. Score=-nan\n",
      "The maximum number of iterations (1000) is reached. The best point up to now is X: {0.000000,-12.806956}. Score=-nan\n",
      "The maximum number of iterations (1000) is reached. The best point up to now is X: {0.000000,-12.806956}. Score=-nan\n",
      "The maximum number of iterations (1000) is reached. The best point up to now is X: {0.000000,-12.806956}. Score=-nan\n",
      "The maximum number of iterations (1000) is reached. The best point up to now is X: {0.000000,-12.806956}. Score=-nan\n",
      "The maximum number of iterations (1000) is reached. The best point up to now is X: {0.000000,-12.806956}. Score=-nan\n"
     ]
    },
    {
     "name": "stdout",
     "output_type": "stream",
     "text": [
      "The maximum number of iterations (1000) is reached. The best point up to now is X: {0.000000,-12.806956}. Score=-nan\n",
      "The maximum number of iterations (1000) is reached. The best point up to now is X: {0.000000,14.840541}. Score=-nan\n",
      "The maximum number of iterations (1000) is reached. The best point up to now is X: {0.000000,14.840541}. Score=-nan\n",
      "The maximum number of iterations (1000) is reached. The best point up to now is X: {0.000000,14.840541}. Score=-nan\n",
      "The maximum number of iterations (1000) is reached. The best point up to now is X: {0.000000,14.840541}. Score=-nan\n",
      "The maximum number of iterations (1000) is reached. The best point up to now is X: {0.000000,14.840541}. Score=-nan\n",
      "The maximum number of iterations (1000) is reached. The best point up to now is X: {0.000000,14.840541}. Score=-nan\n",
      "The maximum number of iterations (1000) is reached. The best point up to now is X: {0.000000,14.840541}. Score=-nan\n",
      "The maximum number of iterations (1000) is reached. The best point up to now is X: {0.000000,14.840541}. Score=-nan\n",
      "The maximum number of iterations (1000) is reached. The best point up to now is X: {0.000000,10.000308}. Score=-nan\n",
      "The maximum number of iterations (1000) is reached. The best point up to now is X: {0.000000,10.000308}. Score=-nan\n",
      "The maximum number of iterations (1000) is reached. The best point up to now is X: {0.000000,10.000308}. Score=-nan\n",
      "The maximum number of iterations (1000) is reached. The best point up to now is X: {0.000000,10.000308}. Score=-nan\n",
      "The maximum number of iterations (1000) is reached. The best point up to now is X: {0.000000,10.000308}. Score=-nan\n",
      "The maximum number of iterations (1000) is reached. The best point up to now is X: {0.000000,10.000308}. Score=-nan\n",
      "The maximum number of iterations (1000) is reached. The best point up to now is X: {0.000000,10.000308}. Score=-nan\n",
      "The maximum number of iterations (1000) is reached. The best point up to now is X: {0.000000,10.000308}. Score=-nan\n",
      "The maximum number of iterations (1000) is reached. The best point up to now is X: {0.000000,9.850616}. Score=-nan\n",
      "The maximum number of iterations (1000) is reached. The best point up to now is X: {0.000000,9.850616}. Score=-nan\n",
      "The maximum number of iterations (1000) is reached. The best point up to now is X: {0.000000,9.850616}. Score=-nan\n",
      "The maximum number of iterations (1000) is reached. The best point up to now is X: {0.000000,9.850616}. Score=-nan\n",
      "The maximum number of iterations (1000) is reached. The best point up to now is X: {0.000000,9.850616}. Score=-nan\n",
      "The maximum number of iterations (1000) is reached. The best point up to now is X: {0.000000,9.850616}. Score=-nan\n",
      "The maximum number of iterations (1000) is reached. The best point up to now is X: {0.000000,9.850616}. Score=-nan\n",
      "The maximum number of iterations (1000) is reached. The best point up to now is X: {0.000000,9.850616}. Score=-nan\n",
      "The maximum number of iterations (1000) is reached. The best point up to now is X: {0.000000,10.003078}. Score=-nan\n",
      "The maximum number of iterations (1000) is reached. The best point up to now is X: {0.000000,10.003078}. Score=-nan\n",
      "The maximum number of iterations (1000) is reached. The best point up to now is X: {0.000000,10.003078}. Score=-nan\n",
      "The maximum number of iterations (1000) is reached. The best point up to now is X: {0.000000,10.003078}. Score=-nan\n",
      "The maximum number of iterations (1000) is reached. The best point up to now is X: {0.000000,10.003078}. Score=-nan\n",
      "The maximum number of iterations (1000) is reached. The best point up to now is X: {0.000000,10.003078}. Score=-nan\n",
      "The maximum number of iterations (1000) is reached. The best point up to now is X: {0.000000,10.003078}. Score=-nan\n",
      "The maximum number of iterations (1000) is reached. The best point up to now is X: {0.000000,10.003078}. Score=-nan\n",
      "The maximum number of iterations (1000) is reached. The best point up to now is X: {0.000000,9.996930}. Score=-nan\n",
      "The maximum number of iterations (1000) is reached. The best point up to now is X: {0.000000,9.996930}. Score=-nan\n",
      "The maximum number of iterations (1000) is reached. The best point up to now is X: {0.000000,9.996930}. Score=-nan\n",
      "The maximum number of iterations (1000) is reached. The best point up to now is X: {0.000000,9.996930}. Score=-nan\n",
      "The maximum number of iterations (1000) is reached. The best point up to now is X: {0.000000,9.996930}. Score=-nan\n",
      "The maximum number of iterations (1000) is reached. The best point up to now is X: {0.000000,9.996930}. Score=-nan\n",
      "The maximum number of iterations (1000) is reached. The best point up to now is X: {0.000000,9.996930}. Score=-nan\n",
      "The maximum number of iterations (1000) is reached. The best point up to now is X: {0.000000,9.996930}. Score=-nan\n",
      "The maximum number of iterations (1000) is reached. The best point up to now is X: {0.000000,6.310950}. Score=-nan\n",
      "The maximum number of iterations (1000) is reached. The best point up to now is X: {0.000000,6.310950}. Score=-nan\n",
      "The maximum number of iterations (1000) is reached. The best point up to now is X: {0.000000,6.310950}. Score=-nan\n",
      "The maximum number of iterations (1000) is reached. The best point up to now is X: {0.000000,6.310950}. Score=-nan\n",
      "The maximum number of iterations (1000) is reached. The best point up to now is X: {0.000000,6.310950}. Score=-nan\n",
      "The maximum number of iterations (1000) is reached. The best point up to now is X: {0.000000,6.310950}. Score=-nan\n",
      "The maximum number of iterations (1000) is reached. The best point up to now is X: {0.000000,6.310950}. Score=-nan\n",
      "The maximum number of iterations (1000) is reached. The best point up to now is X: {0.000000,5.408822}. Score=-nan\n",
      "The maximum number of iterations (1000) is reached. The best point up to now is X: {0.000000,5.408822}. Score=-nan\n",
      "The maximum number of iterations (1000) is reached. The best point up to now is X: {0.000000,5.408822}. Score=-nan\n",
      "The maximum number of iterations (1000) is reached. The best point up to now is X: {0.000000,5.408822}. Score=-nan\n",
      "The maximum number of iterations (1000) is reached. The best point up to now is X: {0.000000,5.408822}. Score=-nan\n",
      "The maximum number of iterations (1000) is reached. The best point up to now is X: {0.000000,5.408822}. Score=-nan\n",
      "The maximum number of iterations (1000) is reached. The best point up to now is X: {0.000000,4.985179}. Score=-nan\n",
      "The maximum number of iterations (1000) is reached. The best point up to now is X: {0.000000,4.985179}. Score=-nan\n",
      "The maximum number of iterations (1000) is reached. The best point up to now is X: {0.000000,4.985179}. Score=-nan\n",
      "The maximum number of iterations (1000) is reached. The best point up to now is X: {0.000000,4.985179}. Score=-nan\n",
      "The maximum number of iterations (1000) is reached. The best point up to now is X: {0.000000,4.985179}. Score=-nan\n",
      "The maximum number of iterations (1000) is reached. The best point up to now is X: {0.000000,4.985179}. Score=-nan\n",
      "The maximum number of iterations (1000) is reached. The best point up to now is X: {0.000000,5.245045}. Score=-nan\n",
      "The maximum number of iterations (1000) is reached. The best point up to now is X: {0.000000,5.245045}. Score=-nan\n",
      "The maximum number of iterations (1000) is reached. The best point up to now is X: {0.000000,5.245045}. Score=-nan\n",
      "The maximum number of iterations (1000) is reached. The best point up to now is X: {0.000000,5.245045}. Score=-nan\n",
      "The maximum number of iterations (1000) is reached. The best point up to now is X: {0.000000,14.998395}. Score=-nan\n",
      "The maximum number of iterations (1000) is reached. The best point up to now is X: {0.000000,14.998395}. Score=-nan\n",
      "The maximum number of iterations (1000) is reached. The best point up to now is X: {0.000000,14.998395}. Score=-nan\n",
      "The maximum number of iterations (1000) is reached. The best point up to now is X: {0.000000,-13.925598}. Score=-nan\n",
      "The maximum number of iterations (1000) is reached. The best point up to now is X: {0.000000,-0.682717}. Score=-nan\n",
      "The maximum number of iterations (1000) is reached. The best point up to now is X: {0.000000,-0.682717}. Score=-nan\n",
      "The maximum number of iterations (1000) is reached. The best point up to now is X: "
     ]
    }
   ],
   "source": [
    "%load_ext autoreload\n",
    "%autoreload\n",
    "from icedrift_wrapper import icedrift_wrapper\n",
    "\n",
    "chan_list = ['tb19hfw_lap']\n",
    "idrift = icedrift_wrapper(pdate, qdate, procpath, procpath, driftpath, os.path.join(logpath, 'cmcc-test.log'),\n",
    "                          'cimr-cimr', 'nh-ease2-050', chan_list, 75., 125.)"
   ]
  },
  {
   "cell_type": "markdown",
   "id": "26c76352",
   "metadata": {},
   "source": [
    "The example shift between the files is 2 pixels in the x-direction and 4-pixels in the y-direction. On the 5km grid, this translates to 10km in x and 20km in y."
   ]
  },
  {
   "cell_type": "code",
   "execution_count": 58,
   "id": "959ca6ad",
   "metadata": {},
   "outputs": [
    {
     "data": {
      "text/plain": [
       "<matplotlib.colorbar.Colorbar at 0x7fa931591e80>"
      ]
     },
     "execution_count": 58,
     "metadata": {},
     "output_type": "execute_result"
    },
    {
     "data": {
      "image/png": "[encoded data removed]",
      "text/plain": [
       "<Figure size 1200x700 with 3 Axes>"
      ]
     },
     "metadata": {},
     "output_type": "display_data"
    }
   ],
   "source": [
    "# Plot ice drift\n",
    "\n",
    "driftx = ma.asarray(idrift['drift_x'])\n",
    "driftx.mask = driftx < -1e9\n",
    "drifty = ma.asarray(idrift['drift_y'])\n",
    "drifty.mask = drifty < -1e9\n",
    "xydata = {'dx': driftx, 'dy': drifty}\n",
    "\n",
    "fig = plt.figure(figsize=(12,7))\n",
    "ax = {}\n",
    "c = {}\n",
    "for i, var in enumerate(list(xydata.keys())):\n",
    "    ax[i] = fig.add_subplot(1,len(xydata),i+1)\n",
    "    c[i] = ax[i].imshow(xydata[var][:], interpolation = 'none', origin='lower', cmap=cmap)\n",
    "    ax[i].invert_yaxis()\n",
    "    ax[i].set_title('{}-drift'.format(var[1:2]), fontsize=12)\n",
    "    ax[i].xaxis.set_tick_params(labelbottom=False)\n",
    "    ax[i].yaxis.set_tick_params(labelleft=False)\n",
    "    ax[i].set_xticks([])\n",
    "    ax[i].set_yticks([])\n",
    "\n",
    "fig.subplots_adjust(right=0.8)\n",
    "cbar_ax = fig.add_axes([0.85, 0.25, 0.02, 0.5])\n",
    "fig.colorbar(c1, cax=cbar_ax, shrink=0.5)"
   ]
  },
  {
   "cell_type": "code",
   "execution_count": 64,
   "id": "780ba646",
   "metadata": {},
   "outputs": [
    {
     "name": "stdout",
     "output_type": "stream",
     "text": [
      "pixshx =  2\n",
      "pixshx * pixsize =  10.0\n"
     ]
    },
    {
     "data": {
      "text/plain": [
       "<matplotlib.colorbar.Colorbar at 0x7fa930f47b20>"
      ]
     },
     "execution_count": 64,
     "metadata": {},
     "output_type": "execute_result"
    },
    {
     "data": {
      "image/png": "[encoded data removed]",
      "text/plain": [
       "<Figure size 1200x700 with 3 Axes>"
      ]
     },
     "metadata": {},
     "output_type": "display_data"
    },
    {
     "data": {
      "image/png": "[encoded data removed]",
      "text/plain": [
       "<Figure size 1200x700 with 3 Axes>"
      ]
     },
     "metadata": {},
     "output_type": "display_data"
    }
   ],
   "source": [
    "# Plot ice drift residuals\n",
    "\n",
    "print(\"pixshx = \", pixshx)\n",
    "pixsize = 5.0\n",
    "print(\"pixshx * pixsize = \", pixshx * pixsize)\n",
    "testx = np.full_like(driftx, pixshx * pixsize)\n",
    "testy = np.full_like(drifty, pixshy * pixsize)\n",
    "testdata = {'dx': testx, 'dy': testy}\n",
    "resx = driftx - np.full_like(driftx, pixshx * pixsize)\n",
    "resy = drifty - np.full_like(drifty, pixshy * pixsize)\n",
    "resdata = {'dx': resx, 'dy': resy}\n",
    "\n",
    "fig = plt.figure(figsize=(12,7))\n",
    "ax = {}\n",
    "c = {}\n",
    "for i, var in enumerate(list(testdata.keys())):\n",
    "    ax[i] = fig.add_subplot(1,len(testdata),i+1)\n",
    "    c[i] = ax[i].imshow(testdata[var][:], interpolation = 'none', origin='lower', cmap=cmap)\n",
    "    ax[i].invert_yaxis()\n",
    "    ax[i].set_title('{}-drift residuals'.format(var[1:2]), fontsize=12)\n",
    "    ax[i].xaxis.set_tick_params(labelbottom=False)\n",
    "    ax[i].yaxis.set_tick_params(labelleft=False)\n",
    "    ax[i].set_xticks([])\n",
    "    ax[i].set_yticks([])\n",
    "\n",
    "fig.subplots_adjust(right=0.8)\n",
    "cbar_ax = fig.add_axes([0.85, 0.25, 0.02, 0.5])\n",
    "fig.colorbar(c1, cax=cbar_ax, shrink=0.5)\n",
    "\n",
    "\n",
    "fig = plt.figure(figsize=(12,7))\n",
    "ax = {}\n",
    "c = {}\n",
    "for i, var in enumerate(list(resdata.keys())):\n",
    "    ax[i] = fig.add_subplot(1,len(resdata),i+1)\n",
    "    c[i] = ax[i].imshow(resdata[var][:], interpolation = 'none', origin='lower', cmap=cmap)\n",
    "    ax[i].invert_yaxis()\n",
    "    ax[i].set_title('{}-drift residuals'.format(var[1:2]), fontsize=12)\n",
    "    ax[i].xaxis.set_tick_params(labelbottom=False)\n",
    "    ax[i].yaxis.set_tick_params(labelleft=False)\n",
    "    ax[i].set_xticks([])\n",
    "    ax[i].set_yticks([])\n",
    "\n",
    "fig.subplots_adjust(right=0.8)\n",
    "cbar_ax = fig.add_axes([0.85, 0.25, 0.02, 0.5])\n",
    "fig.colorbar(c1, cax=cbar_ax, shrink=0.5)"
   ]
  },
  {
   "cell_type": "code",
   "execution_count": null,
   "id": "3a11b713",
   "metadata": {},
   "outputs": [],
   "source": [
    "# Plot ice drift flags\n",
    "\n",
    "cmap = cm.jet\n",
    "fig = plt.figure(figsize=(5,5))\n",
    "ax1 = fig.add_subplot(1,1,1)\n",
    "c1 = ax1.imshow(idrift['flag'][:], interpolation = 'none', origin='lower', cmap=cmap)\n",
    "ax1.set_title(\"flag\")\n",
    "fig.colorbar(c1, ax=ax1, location='right', anchor=(0, 0.3), shrink=0.7)"
   ]
  },
  {
   "cell_type": "code",
   "execution_count": null,
   "id": "f57bbec0",
   "metadata": {},
   "outputs": [],
   "source": [
    "# Will need to alter icedrift code so that the forward and backward scans are treated the same as the \n",
    "# H and V polarisations, and combined within the drift algorithm. Note that the forward and backward scans are \n",
    "# actually separated by 7 minutes, so later on we can try to use the time shift between these too."
   ]
  },
  {
   "cell_type": "code",
   "execution_count": null,
   "id": "fd82bcaa",
   "metadata": {},
   "outputs": [],
   "source": []
  }
 ],
 "metadata": {
  "kernelspec": {
   "display_name": "Python 3",
   "language": "python",
   "name": "python3"
  },
  "language_info": {
   "codemirror_mode": {
    "name": "ipython",
    "version": 3
   },
   "file_extension": ".py",
   "mimetype": "text/x-python",
   "name": "python",
   "nbconvert_exporter": "python",
   "pygments_lexer": "ipython3",
   "version": "3.9.13"
  }
 },
 "nbformat": 4,
 "nbformat_minor": 5
}
